{
  "cells": [
    {
      "cell_type": "markdown",
      "metadata": {
        "id": "zsABGHo9PCI_"
      },
      "source": [
        "Le dataset étudié provient de kaggle (https://www.kaggle.com/datasets/alexandrakim2201/spotify-dataset).<br> Il contient une  colonne Review avec comme élément des commentaires d'utilisateurs de Spotify et une colonne précisant s'il s'agit d'un commentaire positif ou négatif. <br>\n",
        "Dans un premier, temps on nettoyera les données pour établir un modèle de prédiction. Enfin, on utilisera ce modèle pour expliquer ou comprendre les points forts/faibles de Spotify."
      ]
    },
    {
      "cell_type": "markdown",
      "metadata": {
        "id": "0GGAM2-oPCJD"
      },
      "source": [
        "# Importation des Bibliothèques"
      ]
    },
    {
      "cell_type": "code",
      "execution_count": 3,
      "metadata": {
        "colab": {
          "base_uri": "https://localhost:8080/"
        },
        "id": "54JURO2vPCJE",
        "outputId": "9d1c45b3-9e81-4c07-c5a2-eed252fefe42"
      },
      "outputs": [
        {
          "output_type": "stream",
          "name": "stderr",
          "text": [
            "[nltk_data] Downloading package stopwords to /root/nltk_data...\n",
            "[nltk_data]   Package stopwords is already up-to-date!\n",
            "[nltk_data] Downloading package punkt to /root/nltk_data...\n",
            "[nltk_data]   Package punkt is already up-to-date!\n",
            "[nltk_data] Downloading package wordnet to /root/nltk_data...\n",
            "[nltk_data]   Package wordnet is already up-to-date!\n"
          ]
        }
      ],
      "source": [
        "import nltk\n",
        "nltk.download('stopwords')\n",
        "nltk.download('punkt')\n",
        "nltk.download('wordnet')\n",
        "from nltk.corpus import stopwords\n",
        "import string\n",
        "import pandas as pd\n",
        "import seaborn as sns"
      ]
    },
    {
      "cell_type": "markdown",
      "metadata": {
        "id": "8CUzje1NPCJF"
      },
      "source": [
        "# Découverte du jeu de données"
      ]
    },
    {
      "cell_type": "code",
      "execution_count": 4,
      "metadata": {
        "id": "bRgSGZV-PCJF"
      },
      "outputs": [],
      "source": [
        "data=pd.read_csv(\"spotify_data.csv\")"
      ]
    },
    {
      "cell_type": "code",
      "execution_count": 5,
      "metadata": {
        "colab": {
          "base_uri": "https://localhost:8080/",
          "height": 224
        },
        "id": "kxCIrNsDPCJG",
        "outputId": "9142b573-7225-42b9-f6d9-dda0caa57232"
      },
      "outputs": [
        {
          "output_type": "stream",
          "name": "stdout",
          "text": [
            "(37483, 2)\n"
          ]
        },
        {
          "output_type": "execute_result",
          "data": {
            "text/plain": [
              "                                              Review     label\n",
              "0  Great music service, the audio is high quality...  POSITIVE\n",
              "1  Please ignore previous negative rating. This a...  POSITIVE\n",
              "2  This pop-up \"Get the best Spotify experience o...  NEGATIVE\n",
              "3    Really buggy and terrible to use as of recently  NEGATIVE\n",
              "4  Dear Spotify why do I get songs that I didn't ...  NEGATIVE"
            ],
            "text/html": [
              "\n",
              "  <div id=\"df-391130af-8991-4b82-b82a-064aa5fef504\" class=\"colab-df-container\">\n",
              "    <div>\n",
              "<style scoped>\n",
              "    .dataframe tbody tr th:only-of-type {\n",
              "        vertical-align: middle;\n",
              "    }\n",
              "\n",
              "    .dataframe tbody tr th {\n",
              "        vertical-align: top;\n",
              "    }\n",
              "\n",
              "    .dataframe thead th {\n",
              "        text-align: right;\n",
              "    }\n",
              "</style>\n",
              "<table border=\"1\" class=\"dataframe\">\n",
              "  <thead>\n",
              "    <tr style=\"text-align: right;\">\n",
              "      <th></th>\n",
              "      <th>Review</th>\n",
              "      <th>label</th>\n",
              "    </tr>\n",
              "  </thead>\n",
              "  <tbody>\n",
              "    <tr>\n",
              "      <th>0</th>\n",
              "      <td>Great music service, the audio is high quality...</td>\n",
              "      <td>POSITIVE</td>\n",
              "    </tr>\n",
              "    <tr>\n",
              "      <th>1</th>\n",
              "      <td>Please ignore previous negative rating. This a...</td>\n",
              "      <td>POSITIVE</td>\n",
              "    </tr>\n",
              "    <tr>\n",
              "      <th>2</th>\n",
              "      <td>This pop-up \"Get the best Spotify experience o...</td>\n",
              "      <td>NEGATIVE</td>\n",
              "    </tr>\n",
              "    <tr>\n",
              "      <th>3</th>\n",
              "      <td>Really buggy and terrible to use as of recently</td>\n",
              "      <td>NEGATIVE</td>\n",
              "    </tr>\n",
              "    <tr>\n",
              "      <th>4</th>\n",
              "      <td>Dear Spotify why do I get songs that I didn't ...</td>\n",
              "      <td>NEGATIVE</td>\n",
              "    </tr>\n",
              "  </tbody>\n",
              "</table>\n",
              "</div>\n",
              "    <div class=\"colab-df-buttons\">\n",
              "\n",
              "  <div class=\"colab-df-container\">\n",
              "    <button class=\"colab-df-convert\" onclick=\"convertToInteractive('df-391130af-8991-4b82-b82a-064aa5fef504')\"\n",
              "            title=\"Convert this dataframe to an interactive table.\"\n",
              "            style=\"display:none;\">\n",
              "\n",
              "  <svg xmlns=\"http://www.w3.org/2000/svg\" height=\"24px\" viewBox=\"0 -960 960 960\">\n",
              "    <path d=\"M120-120v-720h720v720H120Zm60-500h600v-160H180v160Zm220 220h160v-160H400v160Zm0 220h160v-160H400v160ZM180-400h160v-160H180v160Zm440 0h160v-160H620v160ZM180-180h160v-160H180v160Zm440 0h160v-160H620v160Z\"/>\n",
              "  </svg>\n",
              "    </button>\n",
              "\n",
              "  <style>\n",
              "    .colab-df-container {\n",
              "      display:flex;\n",
              "      gap: 12px;\n",
              "    }\n",
              "\n",
              "    .colab-df-convert {\n",
              "      background-color: #E8F0FE;\n",
              "      border: none;\n",
              "      border-radius: 50%;\n",
              "      cursor: pointer;\n",
              "      display: none;\n",
              "      fill: #1967D2;\n",
              "      height: 32px;\n",
              "      padding: 0 0 0 0;\n",
              "      width: 32px;\n",
              "    }\n",
              "\n",
              "    .colab-df-convert:hover {\n",
              "      background-color: #E2EBFA;\n",
              "      box-shadow: 0px 1px 2px rgba(60, 64, 67, 0.3), 0px 1px 3px 1px rgba(60, 64, 67, 0.15);\n",
              "      fill: #174EA6;\n",
              "    }\n",
              "\n",
              "    .colab-df-buttons div {\n",
              "      margin-bottom: 4px;\n",
              "    }\n",
              "\n",
              "    [theme=dark] .colab-df-convert {\n",
              "      background-color: #3B4455;\n",
              "      fill: #D2E3FC;\n",
              "    }\n",
              "\n",
              "    [theme=dark] .colab-df-convert:hover {\n",
              "      background-color: #434B5C;\n",
              "      box-shadow: 0px 1px 3px 1px rgba(0, 0, 0, 0.15);\n",
              "      filter: drop-shadow(0px 1px 2px rgba(0, 0, 0, 0.3));\n",
              "      fill: #FFFFFF;\n",
              "    }\n",
              "  </style>\n",
              "\n",
              "    <script>\n",
              "      const buttonEl =\n",
              "        document.querySelector('#df-391130af-8991-4b82-b82a-064aa5fef504 button.colab-df-convert');\n",
              "      buttonEl.style.display =\n",
              "        google.colab.kernel.accessAllowed ? 'block' : 'none';\n",
              "\n",
              "      async function convertToInteractive(key) {\n",
              "        const element = document.querySelector('#df-391130af-8991-4b82-b82a-064aa5fef504');\n",
              "        const dataTable =\n",
              "          await google.colab.kernel.invokeFunction('convertToInteractive',\n",
              "                                                    [key], {});\n",
              "        if (!dataTable) return;\n",
              "\n",
              "        const docLinkHtml = 'Like what you see? Visit the ' +\n",
              "          '<a target=\"_blank\" href=https://colab.research.google.com/notebooks/data_table.ipynb>data table notebook</a>'\n",
              "          + ' to learn more about interactive tables.';\n",
              "        element.innerHTML = '';\n",
              "        dataTable['output_type'] = 'display_data';\n",
              "        await google.colab.output.renderOutput(dataTable, element);\n",
              "        const docLink = document.createElement('div');\n",
              "        docLink.innerHTML = docLinkHtml;\n",
              "        element.appendChild(docLink);\n",
              "      }\n",
              "    </script>\n",
              "  </div>\n",
              "\n",
              "\n",
              "<div id=\"df-f9c302dc-81f0-43b6-ac53-94ec3b6f91ef\">\n",
              "  <button class=\"colab-df-quickchart\" onclick=\"quickchart('df-f9c302dc-81f0-43b6-ac53-94ec3b6f91ef')\"\n",
              "            title=\"Suggest charts\"\n",
              "            style=\"display:none;\">\n",
              "\n",
              "<svg xmlns=\"http://www.w3.org/2000/svg\" height=\"24px\"viewBox=\"0 0 24 24\"\n",
              "     width=\"24px\">\n",
              "    <g>\n",
              "        <path d=\"M19 3H5c-1.1 0-2 .9-2 2v14c0 1.1.9 2 2 2h14c1.1 0 2-.9 2-2V5c0-1.1-.9-2-2-2zM9 17H7v-7h2v7zm4 0h-2V7h2v10zm4 0h-2v-4h2v4z\"/>\n",
              "    </g>\n",
              "</svg>\n",
              "  </button>\n",
              "\n",
              "<style>\n",
              "  .colab-df-quickchart {\n",
              "      --bg-color: #E8F0FE;\n",
              "      --fill-color: #1967D2;\n",
              "      --hover-bg-color: #E2EBFA;\n",
              "      --hover-fill-color: #174EA6;\n",
              "      --disabled-fill-color: #AAA;\n",
              "      --disabled-bg-color: #DDD;\n",
              "  }\n",
              "\n",
              "  [theme=dark] .colab-df-quickchart {\n",
              "      --bg-color: #3B4455;\n",
              "      --fill-color: #D2E3FC;\n",
              "      --hover-bg-color: #434B5C;\n",
              "      --hover-fill-color: #FFFFFF;\n",
              "      --disabled-bg-color: #3B4455;\n",
              "      --disabled-fill-color: #666;\n",
              "  }\n",
              "\n",
              "  .colab-df-quickchart {\n",
              "    background-color: var(--bg-color);\n",
              "    border: none;\n",
              "    border-radius: 50%;\n",
              "    cursor: pointer;\n",
              "    display: none;\n",
              "    fill: var(--fill-color);\n",
              "    height: 32px;\n",
              "    padding: 0;\n",
              "    width: 32px;\n",
              "  }\n",
              "\n",
              "  .colab-df-quickchart:hover {\n",
              "    background-color: var(--hover-bg-color);\n",
              "    box-shadow: 0 1px 2px rgba(60, 64, 67, 0.3), 0 1px 3px 1px rgba(60, 64, 67, 0.15);\n",
              "    fill: var(--button-hover-fill-color);\n",
              "  }\n",
              "\n",
              "  .colab-df-quickchart-complete:disabled,\n",
              "  .colab-df-quickchart-complete:disabled:hover {\n",
              "    background-color: var(--disabled-bg-color);\n",
              "    fill: var(--disabled-fill-color);\n",
              "    box-shadow: none;\n",
              "  }\n",
              "\n",
              "  .colab-df-spinner {\n",
              "    border: 2px solid var(--fill-color);\n",
              "    border-color: transparent;\n",
              "    border-bottom-color: var(--fill-color);\n",
              "    animation:\n",
              "      spin 1s steps(1) infinite;\n",
              "  }\n",
              "\n",
              "  @keyframes spin {\n",
              "    0% {\n",
              "      border-color: transparent;\n",
              "      border-bottom-color: var(--fill-color);\n",
              "      border-left-color: var(--fill-color);\n",
              "    }\n",
              "    20% {\n",
              "      border-color: transparent;\n",
              "      border-left-color: var(--fill-color);\n",
              "      border-top-color: var(--fill-color);\n",
              "    }\n",
              "    30% {\n",
              "      border-color: transparent;\n",
              "      border-left-color: var(--fill-color);\n",
              "      border-top-color: var(--fill-color);\n",
              "      border-right-color: var(--fill-color);\n",
              "    }\n",
              "    40% {\n",
              "      border-color: transparent;\n",
              "      border-right-color: var(--fill-color);\n",
              "      border-top-color: var(--fill-color);\n",
              "    }\n",
              "    60% {\n",
              "      border-color: transparent;\n",
              "      border-right-color: var(--fill-color);\n",
              "    }\n",
              "    80% {\n",
              "      border-color: transparent;\n",
              "      border-right-color: var(--fill-color);\n",
              "      border-bottom-color: var(--fill-color);\n",
              "    }\n",
              "    90% {\n",
              "      border-color: transparent;\n",
              "      border-bottom-color: var(--fill-color);\n",
              "    }\n",
              "  }\n",
              "</style>\n",
              "\n",
              "  <script>\n",
              "    async function quickchart(key) {\n",
              "      const quickchartButtonEl =\n",
              "        document.querySelector('#' + key + ' button');\n",
              "      quickchartButtonEl.disabled = true;  // To prevent multiple clicks.\n",
              "      quickchartButtonEl.classList.add('colab-df-spinner');\n",
              "      try {\n",
              "        const charts = await google.colab.kernel.invokeFunction(\n",
              "            'suggestCharts', [key], {});\n",
              "      } catch (error) {\n",
              "        console.error('Error during call to suggestCharts:', error);\n",
              "      }\n",
              "      quickchartButtonEl.classList.remove('colab-df-spinner');\n",
              "      quickchartButtonEl.classList.add('colab-df-quickchart-complete');\n",
              "    }\n",
              "    (() => {\n",
              "      let quickchartButtonEl =\n",
              "        document.querySelector('#df-f9c302dc-81f0-43b6-ac53-94ec3b6f91ef button');\n",
              "      quickchartButtonEl.style.display =\n",
              "        google.colab.kernel.accessAllowed ? 'block' : 'none';\n",
              "    })();\n",
              "  </script>\n",
              "</div>\n",
              "\n",
              "    </div>\n",
              "  </div>\n"
            ],
            "application/vnd.google.colaboratory.intrinsic+json": {
              "type": "dataframe",
              "variable_name": "data",
              "summary": "{\n  \"name\": \"data\",\n  \"rows\": 37483,\n  \"fields\": [\n    {\n      \"column\": \"Review\",\n      \"properties\": {\n        \"dtype\": \"string\",\n        \"num_unique_values\": 37255,\n        \"samples\": [\n          \"Too many bugs/freezing\",\n          \"Since latest update, I get an annoying bluetooth notice every time i open the app\",\n          \"Dont add songs to playlists for us just recomend songs for us to add\"\n        ],\n        \"semantic_type\": \"\",\n        \"description\": \"\"\n      }\n    },\n    {\n      \"column\": \"label\",\n      \"properties\": {\n        \"dtype\": \"category\",\n        \"num_unique_values\": 2,\n        \"samples\": [\n          \"NEGATIVE\",\n          \"POSITIVE\"\n        ],\n        \"semantic_type\": \"\",\n        \"description\": \"\"\n      }\n    }\n  ]\n}"
            }
          },
          "metadata": {},
          "execution_count": 5
        }
      ],
      "source": [
        "print(data.shape)\n",
        "data.head()"
      ]
    },
    {
      "cell_type": "code",
      "execution_count": 6,
      "metadata": {
        "colab": {
          "base_uri": "https://localhost:8080/",
          "height": 147
        },
        "id": "VdYivhu7PCJH",
        "outputId": "258703dd-dca2-4119-b120-48b249190a14"
      },
      "outputs": [
        {
          "output_type": "execute_result",
          "data": {
            "text/plain": [
              "Review    0\n",
              "label     1\n",
              "dtype: int64"
            ],
            "text/html": [
              "<div>\n",
              "<style scoped>\n",
              "    .dataframe tbody tr th:only-of-type {\n",
              "        vertical-align: middle;\n",
              "    }\n",
              "\n",
              "    .dataframe tbody tr th {\n",
              "        vertical-align: top;\n",
              "    }\n",
              "\n",
              "    .dataframe thead th {\n",
              "        text-align: right;\n",
              "    }\n",
              "</style>\n",
              "<table border=\"1\" class=\"dataframe\">\n",
              "  <thead>\n",
              "    <tr style=\"text-align: right;\">\n",
              "      <th></th>\n",
              "      <th>0</th>\n",
              "    </tr>\n",
              "  </thead>\n",
              "  <tbody>\n",
              "    <tr>\n",
              "      <th>Review</th>\n",
              "      <td>0</td>\n",
              "    </tr>\n",
              "    <tr>\n",
              "      <th>label</th>\n",
              "      <td>1</td>\n",
              "    </tr>\n",
              "  </tbody>\n",
              "</table>\n",
              "</div><br><label><b>dtype:</b> int64</label>"
            ]
          },
          "metadata": {},
          "execution_count": 6
        }
      ],
      "source": [
        "data.isna().sum()"
      ]
    },
    {
      "cell_type": "markdown",
      "metadata": {
        "id": "TNhoOsemPCJH"
      },
      "source": [
        "On enlève les colonnes où il n'y a pas de review"
      ]
    },
    {
      "cell_type": "code",
      "execution_count": 7,
      "metadata": {
        "colab": {
          "base_uri": "https://localhost:8080/"
        },
        "id": "UlXN35gOPCJI",
        "outputId": "a6497eb1-9e2c-4750-8293-bfcd8577f1b6"
      },
      "outputs": [
        {
          "output_type": "execute_result",
          "data": {
            "text/plain": [
              "(37482, 2)"
            ]
          },
          "metadata": {},
          "execution_count": 7
        }
      ],
      "source": [
        "df=data.dropna(axis=0)\n",
        "df.shape"
      ]
    },
    {
      "cell_type": "code",
      "execution_count": 8,
      "metadata": {
        "colab": {
          "base_uri": "https://localhost:8080/",
          "height": 467
        },
        "id": "ULhpurNEPCJJ",
        "outputId": "3e9c144b-1001-40bb-e112-8dcf1970ebe3"
      },
      "outputs": [
        {
          "output_type": "execute_result",
          "data": {
            "text/plain": [
              "<Axes: xlabel='label', ylabel='count'>"
            ]
          },
          "metadata": {},
          "execution_count": 8
        },
        {
          "output_type": "display_data",
          "data": {
            "text/plain": [
              "<Figure size 640x480 with 1 Axes>"
            ],
            "image/png": "[encoded data removed]"
          },
          "metadata": {}
        }
      ],
      "source": [
        "sns.countplot(x='label', data=data)"
      ]
    },
    {
      "cell_type": "markdown",
      "metadata": {
        "id": "9ve0ytdVPCJK"
      },
      "source": [
        "Il n'y a pas de différence flagrante. Le jeu de données n'est pas biaisé sur cet aspect."
      ]
    },
    {
      "cell_type": "markdown",
      "metadata": {
        "id": "bWqLVuxUPCJK"
      },
      "source": [
        "# Nettoyage des textes"
      ]
    },
    {
      "cell_type": "code",
      "execution_count": 9,
      "metadata": {
        "id": "uKXJUmk0PCJK"
      },
      "outputs": [],
      "source": [
        "def clean_text(text):\n",
        "    text=text.lower()\n",
        "    text=text.strip()\n",
        "    return text.translate(str.maketrans('', '', string.punctuation+'0123456789')) # On supprime les chiffres et la ponctuation\n",
        "\n",
        "df.loc[:, 'Review'] = df.Review.apply(clean_text)"
      ]
    },
    {
      "cell_type": "markdown",
      "metadata": {
        "id": "bsAUq9IDPCJL"
      },
      "source": [
        "# Tokenization et Stop Words"
      ]
    },
    {
      "cell_type": "code",
      "execution_count": 10,
      "metadata": {
        "colab": {
          "base_uri": "https://localhost:8080/"
        },
        "id": "ur2rQ9-6PCJL",
        "outputId": "08366f62-377c-4e8d-a592-254c28f648cc"
      },
      "outputs": [
        {
          "output_type": "stream",
          "name": "stderr",
          "text": [
            "<ipython-input-10-2ee245ac29d1>:10: SettingWithCopyWarning: \n",
            "A value is trying to be set on a copy of a slice from a DataFrame.\n",
            "Try using .loc[row_indexer,col_indexer] = value instead\n",
            "\n",
            "See the caveats in the documentation: https://pandas.pydata.org/pandas-docs/stable/user_guide/indexing.html#returning-a-view-versus-a-copy\n",
            "  df.loc[:, \"tokenize\"] = df.Review.apply(tokenize_text)\n"
          ]
        }
      ],
      "source": [
        "stop_words = set(stopwords.words('english'))\n",
        "from nltk.tokenize import word_tokenize\n",
        "\n",
        "def tokenize_text(text):\n",
        "    text=text.lower().strip()\n",
        "    tokens = word_tokenize(text)\n",
        "    tokens = [t for t in tokens if t not in stop_words]\n",
        "    return tokens\n",
        "\n",
        "df.loc[:, \"tokenize\"] = df.Review.apply(tokenize_text)\n"
      ]
    },
    {
      "cell_type": "markdown",
      "metadata": {
        "id": "jFrd_K-CPCJM"
      },
      "source": [
        "# Lemmatization"
      ]
    },
    {
      "cell_type": "code",
      "execution_count": 11,
      "metadata": {
        "colab": {
          "base_uri": "https://localhost:8080/"
        },
        "id": "o4UdJiw7PCJM",
        "outputId": "a8b76d3f-bf28-4639-a6ac-164f15bc0083"
      },
      "outputs": [
        {
          "output_type": "stream",
          "name": "stderr",
          "text": [
            "<ipython-input-11-25191de8c840>:7: SettingWithCopyWarning: \n",
            "A value is trying to be set on a copy of a slice from a DataFrame.\n",
            "Try using .loc[row_indexer,col_indexer] = value instead\n",
            "\n",
            "See the caveats in the documentation: https://pandas.pydata.org/pandas-docs/stable/user_guide/indexing.html#returning-a-view-versus-a-copy\n",
            "  df.loc[:, \"lemmatize\"] = df.tokenize.apply(lemmatization)\n"
          ]
        }
      ],
      "source": [
        "from nltk.stem import WordNetLemmatizer\n",
        "\n",
        "def lemmatization(tokens):\n",
        "    lemmatizer = WordNetLemmatizer()\n",
        "    return [lemmatizer.lemmatize(token) for token in tokens]\n",
        "\n",
        "df.loc[:, \"lemmatize\"] = df.tokenize.apply(lemmatization)\n"
      ]
    },
    {
      "cell_type": "markdown",
      "metadata": {
        "id": "byvIGQiHPCJN"
      },
      "source": [
        "# Filtration des mots"
      ]
    },
    {
      "cell_type": "markdown",
      "metadata": {
        "id": "Ga-1Hc2HPCJN"
      },
      "source": [
        "On va regarder si certains mots liés au vocabulaire de Spotify (ou d'autres mots jugés inutiles) n'apparaissent pas trop pour les supprimer. <br>Aussi, on va supprimer les mots apparaissant moins de x fois (en déterminant x)."
      ]
    },
    {
      "cell_type": "code",
      "execution_count": 12,
      "metadata": {
        "id": "-g5JHzosPCJN"
      },
      "outputs": [],
      "source": [
        "# Compter la fréquence des mots dans tout le dataset\n",
        "from collections import Counter\n",
        "\n",
        "tous_les_mots = [mot for sous_liste in df['lemmatize'] for mot in sous_liste]\n",
        "compteur = Counter(tous_les_mots)"
      ]
    },
    {
      "cell_type": "markdown",
      "metadata": {
        "id": "EuqzHPBRPCJO"
      },
      "source": [
        "On va visualiser les 20 mots les plus fréquents dans le dataset:"
      ]
    },
    {
      "cell_type": "code",
      "execution_count": 13,
      "metadata": {
        "colab": {
          "base_uri": "https://localhost:8080/"
        },
        "id": "W86Psj7EPCJO",
        "outputId": "84201653-554e-4ff2-ceff-e2d35201a690"
      },
      "outputs": [
        {
          "output_type": "execute_result",
          "data": {
            "text/plain": [
              "[('app', 21370),\n",
              " ('song', 19380),\n",
              " ('music', 15465),\n",
              " ('spotify', 10544),\n",
              " ('play', 8339),\n",
              " ('playlist', 6041),\n",
              " ('like', 5738),\n",
              " ('ad', 5667),\n",
              " ('love', 5471),\n",
              " ('good', 5261),\n",
              " ('listen', 5238),\n",
              " ('cant', 5214),\n",
              " ('premium', 4912),\n",
              " ('great', 4425),\n",
              " ('playing', 4135),\n",
              " ('time', 3969),\n",
              " ('even', 3962),\n",
              " ('dont', 3955),\n",
              " ('update', 3790),\n",
              " ('im', 3728)]"
            ]
          },
          "metadata": {},
          "execution_count": 13
        }
      ],
      "source": [
        "compteur.most_common()[:20]"
      ]
    },
    {
      "cell_type": "markdown",
      "metadata": {
        "id": "ChIOeG6jPCJP"
      },
      "source": [
        "Je décide de supprimer les mots jugés inutiles qui sont trop communs:"
      ]
    },
    {
      "cell_type": "code",
      "execution_count": 14,
      "metadata": {
        "id": "kyicrOnLPCJP"
      },
      "outputs": [],
      "source": [
        "words_to_remove={\"app\",\"song\",\"spotify\",\"music\",\"play\",\"get\",\"playing\",\"use\",\"listen\",\"playlist\"}\n",
        "stop_words.update(words_to_remove)\n",
        "def remove_stopwords(tokens):\n",
        "    return  [str(mot) for mot in tokens if mot not in stop_words]\n",
        "\n",
        "df.loc[:, \"lemmatize\"] = df.lemmatize.apply(remove_stopwords)"
      ]
    },
    {
      "cell_type": "markdown",
      "metadata": {
        "id": "SbBFJPtdPCJQ"
      },
      "source": [
        "# Visualisation de la fréquence des mots"
      ]
    },
    {
      "cell_type": "code",
      "execution_count": 15,
      "metadata": {
        "colab": {
          "base_uri": "https://localhost:8080/",
          "height": 929
        },
        "id": "hg3dSNRmPCJQ",
        "outputId": "11965cb9-8b7e-494c-8805-051116932994"
      },
      "outputs": [
        {
          "output_type": "display_data",
          "data": {
            "text/plain": [
              "<Figure size 640x480 with 1 Axes>"
            ],
            "image/png": "[encoded data removed]"
          },
          "metadata": {}
        },
        {
          "output_type": "display_data",
          "data": {
            "text/plain": [
              "<Figure size 640x480 with 1 Axes>"
            ],
            "image/png": "[encoded data removed]"
          },
          "metadata": {}
        }
      ],
      "source": [
        "import matplotlib.pyplot as plt\n",
        "\n",
        "frequencies = list(compteur.values())\n",
        "\n",
        "plt.hist(frequencies, bins=30, log=True)\n",
        "plt.xlabel('Fréquence des mots')\n",
        "plt.ylabel('Nombre de mots')\n",
        "plt.title('Distribution de la fréquence des mots')\n",
        "plt.show()\n",
        "frequencies = list(compteur.values())\n",
        "\n",
        "less_than_50 =[i for i in frequencies if i<50]\n",
        "plt.hist(less_than_50, bins=50,log=True)\n",
        "plt.xlabel('Fréquence des mots')\n",
        "plt.ylabel('Nombre de mots')\n",
        "plt.title('Distribution de la fréquence des mots (en dessous de 50)')\n",
        "plt.show()\n"
      ]
    },
    {
      "cell_type": "markdown",
      "metadata": {
        "id": "qe69QLbVPCJT"
      },
      "source": [
        "On remarque qu'il y a énormément de mots avec une fréquence en dessous de 50. Supprimer les mots avec une fréquence en dessous d'un certain seuil pourrait grandement réduire la dimensionnalité de notre dataset.<br> On va visualiser le pourcentage de mots conservé si on supprime tous les mots avec une fréquence en dessous d'un seuil donné:"
      ]
    },
    {
      "cell_type": "code",
      "execution_count": 16,
      "metadata": {
        "colab": {
          "base_uri": "https://localhost:8080/",
          "height": 472
        },
        "id": "OjPEUG7cPCJT",
        "outputId": "96b3ffc7-7a9d-4bc6-f152-f1038bd994be"
      },
      "outputs": [
        {
          "output_type": "display_data",
          "data": {
            "text/plain": [
              "<Figure size 640x480 with 1 Axes>"
            ],
            "image/png": "[encoded data removed]"
          },
          "metadata": {}
        }
      ],
      "source": [
        "total_words = sum(frequencies)\n",
        "coverage = []\n",
        "\n",
        "for threshold in range(1, 20):\n",
        "    filtered_words = [freq for freq in frequencies if freq >= threshold]\n",
        "    coverage.append(sum(filtered_words) / total_words)\n",
        "\n",
        "plt.plot(range(1, 20), coverage)\n",
        "plt.xlabel('Seuil (x)')\n",
        "plt.ylabel(\"Proportion du nombre total de mots conservé\")\n",
        "plt.title(\"Proportion du nombre total d'occurences conservé en fonction du seuil x\")\n",
        "plt.show()\n"
      ]
    },
    {
      "cell_type": "markdown",
      "metadata": {
        "id": "0KOcTjO9PCJU"
      },
      "source": [
        "On remarque que l'on conserve environ 96.5% de la proportion du nombre total d'occurences en prenant x=5"
      ]
    },
    {
      "cell_type": "code",
      "execution_count": 17,
      "metadata": {
        "colab": {
          "base_uri": "https://localhost:8080/"
        },
        "id": "ktWQXWB3PCJU",
        "outputId": "d0b9a8c1-0cf1-4d63-bf65-cc3876753df3"
      },
      "outputs": [
        {
          "output_type": "execute_result",
          "data": {
            "text/plain": [
              "17021"
            ]
          },
          "metadata": {},
          "execution_count": 17
        }
      ],
      "source": [
        "# Voir le nombre de mots qui apparaissent moins de 5 fois\n",
        "less_than_5 = [item[0] for item in compteur.items() if item[1] < 6]\n",
        "more_than_5=[item[0] for item in compteur.items() if item[1] >= 6]\n",
        "len(less_than_5)"
      ]
    },
    {
      "cell_type": "markdown",
      "metadata": {
        "id": "E55G40o7PCJV"
      },
      "source": [
        "Enlever ces mots réduira considérablement la dimension de notre dataset sans réellement affecter (négativement) les performances de nos modèles. Cela pourra éventuellement les rendre plus performants."
      ]
    },
    {
      "cell_type": "markdown",
      "metadata": {
        "id": "aHGxlQWBPCJV"
      },
      "source": [
        "# Vectorisation"
      ]
    },
    {
      "cell_type": "markdown",
      "metadata": {
        "id": "ccmXER2NPCJV"
      },
      "source": [
        "On doit changer le format de la colonne pour la fonction de vectorisation"
      ]
    },
    {
      "cell_type": "code",
      "execution_count": 18,
      "metadata": {
        "colab": {
          "base_uri": "https://localhost:8080/"
        },
        "id": "EpXuDWlYPCJW",
        "outputId": "696e4f52-7640-4fcf-9c61-0dd2704a2a3b"
      },
      "outputs": [
        {
          "output_type": "stream",
          "name": "stderr",
          "text": [
            "<ipython-input-18-7c9d95bf968b>:7: SettingWithCopyWarning: \n",
            "A value is trying to be set on a copy of a slice from a DataFrame.\n",
            "Try using .loc[row_indexer,col_indexer] = value instead\n",
            "\n",
            "See the caveats in the documentation: https://pandas.pydata.org/pandas-docs/stable/user_guide/indexing.html#returning-a-view-versus-a-copy\n",
            "  df.loc[:,\"filtered\"]=df[\"lemmatize\"].apply(delete_less_than_5)\n"
          ]
        }
      ],
      "source": [
        "def delete_less_than_5(text):\n",
        "    text_return=[]\n",
        "    for word in text:\n",
        "        if word in more_than_5:\n",
        "            text_return.append(word)\n",
        "    return text_return\n",
        "df.loc[:,\"filtered\"]=df[\"lemmatize\"].apply(delete_less_than_5)"
      ]
    },
    {
      "cell_type": "code",
      "execution_count": 19,
      "metadata": {
        "colab": {
          "base_uri": "https://localhost:8080/"
        },
        "id": "ZbLXwrWHPCJW",
        "outputId": "b09e514d-2e7c-4619-a777-4c78e7c9e9c9"
      },
      "outputs": [
        {
          "output_type": "stream",
          "name": "stderr",
          "text": [
            "<ipython-input-19-27f9fe548e7a>:1: SettingWithCopyWarning: \n",
            "A value is trying to be set on a copy of a slice from a DataFrame.\n",
            "Try using .loc[row_indexer,col_indexer] = value instead\n",
            "\n",
            "See the caveats in the documentation: https://pandas.pydata.org/pandas-docs/stable/user_guide/indexing.html#returning-a-view-versus-a-copy\n",
            "  df.loc[:,'lemmatize_j'] = df['lemmatize'].apply(lambda x: ' '.join(x))\n"
          ]
        }
      ],
      "source": [
        "df.loc[:,'lemmatize_j'] = df['lemmatize'].apply(lambda x: ' '.join(x))"
      ]
    },
    {
      "cell_type": "markdown",
      "metadata": {
        "id": "QPQquqKoPCJX"
      },
      "source": [
        "On utilise la méthode TF-IDF pour vectoriser nos mots. On ne sélectionne pas les mots avec une fréquence inférieure à 10. Cela aura pour but de réduire la dimension de la vectorisation et d'éventuellement le bruit associé."
      ]
    },
    {
      "cell_type": "code",
      "execution_count": 20,
      "metadata": {
        "id": "UAxzwdx8PCJX"
      },
      "outputs": [],
      "source": [
        "from sklearn.feature_extraction.text import TfidfVectorizer\n",
        "\n",
        "tfidf_vect = TfidfVectorizer(min_df=6)\n",
        "X=tfidf_vect.fit_transform(df['lemmatize_j'])"
      ]
    },
    {
      "cell_type": "markdown",
      "metadata": {
        "id": "bYmmWHc1PCJX"
      },
      "source": [
        "On regarde de combien on a réduit la dimension:"
      ]
    },
    {
      "cell_type": "code",
      "execution_count": 21,
      "metadata": {
        "colab": {
          "base_uri": "https://localhost:8080/"
        },
        "id": "Qllh3PZ0PCJY",
        "outputId": "24b09237-2abf-464b-9e4f-1953be7ffba7"
      },
      "outputs": [
        {
          "output_type": "execute_result",
          "data": {
            "text/plain": [
              "13474"
            ]
          },
          "metadata": {},
          "execution_count": 21
        }
      ],
      "source": [
        "len(less_than_5)-X.shape[1]"
      ]
    },
    {
      "cell_type": "markdown",
      "metadata": {
        "id": "qxH9J9YXPCJl"
      },
      "source": [
        "# Modèles"
      ]
    },
    {
      "cell_type": "markdown",
      "metadata": {
        "id": "BoXOMdHcPCJm"
      },
      "source": [
        "Le jeu de données est très grand. De ce fait on se contente ici de tester les modèles sans nécessairement optimiser les hyperparamètres par cross-validation. <br>Comme on a un nombre assez proche de review positives et négatives, on va utiliser l'accuracy pour comparer les modèles entre eux, sans non plus utiliser de graphique ROC."
      ]
    },
    {
      "cell_type": "code",
      "execution_count": 22,
      "metadata": {
        "id": "x5FcblTsPCJm"
      },
      "outputs": [],
      "source": [
        "Y=df[\"label\"].apply(lambda x: 1 if x==\"POSITIVE\" else 0)\n",
        "\n",
        "from sklearn.model_selection import KFold,cross_val_score\n",
        "kf = KFold(n_splits=5, shuffle=True, random_state=42)"
      ]
    },
    {
      "cell_type": "code",
      "execution_count": 23,
      "metadata": {
        "id": "0f1o7UIcPCJm"
      },
      "outputs": [],
      "source": [
        "from sklearn.linear_model import LogisticRegression\n",
        "\n",
        "scores_lr = cross_val_score(LogisticRegression(), X, Y, cv=kf)"
      ]
    },
    {
      "cell_type": "code",
      "execution_count": 24,
      "metadata": {
        "id": "S6URKFm1PCJn"
      },
      "outputs": [],
      "source": [
        "from sklearn.naive_bayes import MultinomialNB\n",
        "scores_mnb= cross_val_score(MultinomialNB(), X, Y, cv=kf)"
      ]
    },
    {
      "cell_type": "code",
      "execution_count": 25,
      "metadata": {
        "id": "fWp_vDCoPCJn"
      },
      "outputs": [],
      "source": [
        "from sklearn.svm import SVC\n",
        "\n",
        "scores_svm= cross_val_score(SVC(kernel=\"linear\"), X, Y, cv=kf)"
      ]
    },
    {
      "cell_type": "code",
      "execution_count": 26,
      "metadata": {
        "id": "CiAZ4FquPCJw"
      },
      "outputs": [],
      "source": [
        "from sklearn.ensemble import RandomForestClassifier\n",
        "scores_rfc= cross_val_score(RandomForestClassifier(), X, Y, cv=kf)"
      ]
    },
    {
      "cell_type": "code",
      "execution_count": 27,
      "metadata": {
        "id": "WteWzoNhPCJx",
        "colab": {
          "base_uri": "https://localhost:8080/",
          "height": 430
        },
        "outputId": "1fcd43a0-ea54-4691-eb39-2bbbcce0e676"
      },
      "outputs": [
        {
          "output_type": "display_data",
          "data": {
            "text/plain": [
              "<Figure size 640x480 with 1 Axes>"
            ],
            "image/png": "[encoded data removed]"
          },
          "metadata": {}
        }
      ],
      "source": [
        "data=[scores_lr,scores_mnb,scores_svm,scores_rfc]\n",
        "sns.boxplot(data)\n",
        "sns.stripplot(data, color=\"black\")\n",
        "plt.xticks([0,1,2,4], [\"Linear Reg\",\"MultinomialNB\",\"SVM linear kernel\",\"Regression Tree\"])\n",
        "plt.show()"
      ]
    },
    {
      "cell_type": "markdown",
      "metadata": {
        "id": "IkcuUQk3PCJy"
      },
      "source": [
        "On va conserver le modèle de regression logistique qui a une moyenne quasi-équivalente et une meilleure variance. Elle a aussi comme atout d'avoir une meillure interprétabilité et simplicité."
      ]
    },
    {
      "cell_type": "code",
      "execution_count": 28,
      "metadata": {
        "id": "sYPn0KxSPCJy"
      },
      "outputs": [],
      "source": [
        "lr=LogisticRegression()\n",
        "model_final=lr.fit(X,Y)"
      ]
    },
    {
      "cell_type": "markdown",
      "metadata": {
        "id": "qwrInxHfPCJy"
      },
      "source": [
        "# Inférence"
      ]
    },
    {
      "cell_type": "markdown",
      "metadata": {
        "id": "AQ5K1BmRPCJz"
      },
      "source": [
        "## Mots avec le plus d'impacts"
      ]
    },
    {
      "cell_type": "markdown",
      "metadata": {
        "id": "Fs3CV0wDPCJz"
      },
      "source": [
        "On va essayer de déterminer les mots qui ont le plus d'impact sur les prédictions positives ou négatives en utilisant les coefficients de notre modèle."
      ]
    },
    {
      "cell_type": "code",
      "execution_count": 29,
      "metadata": {
        "id": "9Cqd75v3PCJz"
      },
      "outputs": [],
      "source": [
        "import numpy as np\n",
        "nb_mots=10\n",
        "\n",
        "list_coeff=lr.coef_[0,:]\n",
        "index_sorted=np.argsort(list_coeff)\n",
        "index_neg=index_sorted[:nb_mots]\n",
        "index_pos=index_sorted[-nb_mots:]"
      ]
    },
    {
      "cell_type": "code",
      "execution_count": 30,
      "metadata": {
        "id": "3_6BgJU-PCJ0"
      },
      "outputs": [],
      "source": [
        "mots_positifs={}\n",
        "mots_negatifs={}\n",
        "for keys,values in tfidf_vect.vocabulary_.items():\n",
        "    if values in index_pos:\n",
        "        mots_positifs[keys]=list_coeff[values]\n",
        "    if values in index_neg:\n",
        "        mots_negatifs[keys]=list_coeff[values]"
      ]
    },
    {
      "cell_type": "code",
      "execution_count": 31,
      "metadata": {
        "colab": {
          "base_uri": "https://localhost:8080/"
        },
        "id": "Xg_KCWuDPCJ0",
        "outputId": "f3c0dc78-ed81-4cb6-99c6-61ee55ea5780"
      },
      "outputs": [
        {
          "output_type": "execute_result",
          "data": {
            "text/plain": [
              "{'annoying': -3.9844061595806344,\n",
              " 'fix': -4.467917153523135,\n",
              " 'ad': -3.8708323859910667,\n",
              " 'worst': -4.812205946350479,\n",
              " 'update': -3.6006041274891505,\n",
              " 'stupid': -3.412567664254936,\n",
              " 'crash': -3.821201171244772,\n",
              " 'worse': -3.348870488554259,\n",
              " 'missing': -4.4116019823714,\n",
              " 'horrible': -3.276415152225147}"
            ]
          },
          "metadata": {},
          "execution_count": 31
        }
      ],
      "source": [
        "mots_negatifs"
      ]
    },
    {
      "cell_type": "code",
      "execution_count": 32,
      "metadata": {
        "colab": {
          "base_uri": "https://localhost:8080/"
        },
        "id": "JYW6aBvNPCJ1",
        "outputId": "64ea4190-0b2d-4f47-e963-d8b8ef6df215"
      },
      "outputs": [
        {
          "output_type": "execute_result",
          "data": {
            "text/plain": [
              "{'great': 5.763085404441851,\n",
              " 'best': 6.318463483684072,\n",
              " 'love': 6.60684896747294,\n",
              " 'wonderful': 4.886314932394541,\n",
              " 'good': 5.762157915576045,\n",
              " 'amazing': 5.840601302524887,\n",
              " 'awesome': 4.820802572319387,\n",
              " 'thank': 5.2625014606038185,\n",
              " 'excellent': 5.2665368501904535,\n",
              " 'fantastic': 4.459279819230405}"
            ]
          },
          "metadata": {},
          "execution_count": 32
        }
      ],
      "source": [
        "mots_positifs"
      ]
    },
    {
      "cell_type": "markdown",
      "metadata": {
        "id": "DWA9YtZNPCJ1"
      },
      "source": [
        "## Matrice de co-occurence"
      ]
    },
    {
      "cell_type": "markdown",
      "metadata": {
        "id": "EOSmqcTcPCJ1"
      },
      "source": [
        "On va regarder les mots apparaissant le plus avec les mots que l'on a trouvé, c'est à dire extraire les éléments de la matrice de co-occurence qui correspondent aux mots positifs et négatifs trouvés avant. <br>On va regarder tout cela sur la colonne filtered car sinon cela demanderait trop de puissances de calculs."
      ]
    },
    {
      "cell_type": "code",
      "execution_count": 33,
      "metadata": {
        "id": "SlFb0lcHPCJ2"
      },
      "outputs": [],
      "source": [
        "from sklearn.feature_extraction.text import CountVectorizer\n",
        "df_tmp=df.copy()\n",
        "df_tmp.loc[:,'filtered'] = df['filtered'].apply(lambda x: ' '.join(x))\n",
        "vectorizer = CountVectorizer(ngram_range=(1, 1))\n",
        "L=df_tmp.filtered.apply(len)\n",
        "df_tmp=df_tmp[L>0]\n",
        "tmp = vectorizer.fit_transform(df_tmp.filtered)"
      ]
    },
    {
      "cell_type": "code",
      "execution_count": 34,
      "metadata": {
        "id": "SMw-L9pfPCJ2"
      },
      "outputs": [],
      "source": [
        "occ_df = pd.DataFrame(tmp.T.todense(), index=vectorizer.get_feature_names_out(), columns=range(len(df_tmp.lemmatize_j)))"
      ]
    },
    {
      "cell_type": "code",
      "execution_count": 35,
      "metadata": {
        "id": "tgr95L92PCJ3"
      },
      "outputs": [],
      "source": [
        "def most_used_with(word):\n",
        "    col_word=occ_df.loc[word]\n",
        "    list_index_word=col_word[col_word>0].index.tolist() #liste des éléments (colonnes) où great apparait\n",
        "    df_word=occ_df.iloc[:,list_index_word]\n",
        "    ratio=df_word.sum(axis=1).sort_values(ascending=False)[1:]/compteur[word] # on enlève le premier car c'est le mot en paramètre\n",
        "    return ratio\n",
        "\n",
        "dic_most_used_with_pos={}\n",
        "dic_most_used_with_neg={}\n",
        "for word in mots_positifs:\n",
        "    dic_most_used_with_pos[word]=most_used_with(word)\n",
        "for word in mots_negatifs:\n",
        "    dic_most_used_with_neg[word]=most_used_with(word)"
      ]
    },
    {
      "cell_type": "markdown",
      "metadata": {
        "id": "UdSvmt2fPCJ3"
      },
      "source": [
        "## Trouver les mots les plus fréquents à côté de notre liste de mots"
      ]
    },
    {
      "cell_type": "code",
      "execution_count": 36,
      "metadata": {
        "id": "req1uTHyPCJ3"
      },
      "outputs": [],
      "source": [
        "\n",
        "def is_next_to_word(word,text):\n",
        "    L=[]\n",
        "    n=len(text)\n",
        "    if n==1:\n",
        "        return[]\n",
        "    for i in range(n):\n",
        "        if text[i]==word:\n",
        "            if i!=0 :\n",
        "                L.append(text[i-1])\n",
        "            if i!=(n-1):\n",
        "                L.append(text[i+1])\n",
        "    return [mot for mot in L if mot!=word]\n",
        "\n",
        "def dic_next_to_word(word):\n",
        "    List_next=df.filtered.apply(lambda x: is_next_to_word(word,x))\n",
        "    List_next=List_next[List_next.apply(len)>0]\n",
        "    D={}\n",
        "    for list_word in List_next:\n",
        "        for word in list_word:\n",
        "            if word in D:\n",
        "                D[word]=D[word]+1\n",
        "            else:\n",
        "                D[word]=1\n",
        "    return D\n"
      ]
    },
    {
      "cell_type": "code",
      "execution_count": 37,
      "metadata": {
        "id": "03azO5d0PCJ4"
      },
      "outputs": [],
      "source": [
        "dic_pos_most_next={}\n",
        "dic_neg_most_next={}\n",
        "for word in mots_positifs:\n",
        "    dic_pos_most_next[word]=dic_next_to_word(word)\n",
        "for word in mots_negatifs:\n",
        "    dic_neg_most_next[word]=dic_next_to_word(word)"
      ]
    },
    {
      "cell_type": "markdown",
      "metadata": {
        "id": "DSx7Hni0PCJ4"
      },
      "source": [
        "## Exemples sur 2 mots"
      ]
    },
    {
      "cell_type": "markdown",
      "metadata": {
        "id": "GagMr1-WPCJ5"
      },
      "source": [
        "\n",
        "Je choisis d'effectuer sur les mots \"great\" et \"fix\".\n",
        "Trions le dictionnaire par valeur (nombre d'occurences à côté de ce mot) pour obtenir les plus fréquents et je garde seulement les 10 plus fréquents"
      ]
    },
    {
      "cell_type": "code",
      "execution_count": 38,
      "metadata": {
        "id": "OFSlbgUkPCJ5"
      },
      "outputs": [],
      "source": [
        "word='great'\n",
        "sorted_most_next = dict(sorted(dic_pos_most_next[word].items(), key=lambda item:item[1],\n",
        "reverse=True)[:10])"
      ]
    },
    {
      "cell_type": "code",
      "execution_count": 39,
      "metadata": {
        "colab": {
          "base_uri": "https://localhost:8080/"
        },
        "id": "Gq8f1xobPCJ6",
        "outputId": "acc3b161-aaca-4d40-88a1-9f8b490e0740"
      },
      "outputs": [
        {
          "output_type": "execute_result",
          "data": {
            "text/plain": [
              "{'work': [191, 0.0903954802259887],\n",
              " 'love': [188, 0.14508474576271185],\n",
              " 'selection': [183, 0.05288135593220339],\n",
              " 'would': [114, 0.07932203389830508],\n",
              " 'experience': [109, 0.04519774011299435],\n",
              " 'really': [109, 0.07796610169491526],\n",
              " 'easy': [101, 0.059887005649717516],\n",
              " 'overall': [91, 0.030508474576271188],\n",
              " 'service': [88, 0.05152542372881356],\n",
              " 'listening': [86, 0.07615819209039548]}"
            ]
          },
          "metadata": {},
          "execution_count": 39
        }
      ],
      "source": [
        "dic_next_word_with_ratio={}\n",
        "for mot,frequencies in sorted_most_next.items():\n",
        "    dic_next_word_with_ratio[mot]=[frequencies,dic_most_used_with_pos[word][mot]]\n",
        "\n",
        "dic_next_word_with_ratio"
      ]
    },
    {
      "cell_type": "markdown",
      "metadata": {
        "id": "mHDJj3zyPCJ7"
      },
      "source": [
        "Ici, on choisit d'afficher le ratio d'apparations avec le mot (\"great\" ici) pour nuancer les résultats: si on apparaît énormément de fois dans le même commentaire, forcément on a plus de chances d'apparaître proche du mot.\n",
        "Les mots plus précédés/suivis de \"great\" sont ceux ci-dessus. On identifie certains points forts de la plateforme comme son service ou la qualité sonore offerte. On peut répéter cette opération pour identifier les forces de Spotify avec d'autres mots."
      ]
    },
    {
      "cell_type": "code",
      "execution_count": 40,
      "metadata": {
        "colab": {
          "base_uri": "https://localhost:8080/"
        },
        "id": "iOn9bZdaPCJ7",
        "outputId": "506c059f-fc8d-4b35-8283-20a7d03f352b"
      },
      "outputs": [
        {
          "output_type": "execute_result",
          "data": {
            "text/plain": [
              "{'please': [1241, 0.4671941971645236],\n",
              " 'issue': [205, 0.1763930102209034],\n",
              " 'problem': [168, 0.1724365314869766],\n",
              " 'bug': [163, 0.11341905703923508],\n",
              " 'pls': [122, 0.04681833168480053],\n",
              " 'asap': [97, 0.04286185295087372],\n",
              " 'need': [83, 0.06660072535443455],\n",
              " 'soon': [64, 0.036927134849983514],\n",
              " 'hope': [63, 0.03791625453346521],\n",
              " 'dont': [56, 0.1493570722057369]}"
            ]
          },
          "metadata": {},
          "execution_count": 40
        }
      ],
      "source": [
        "word_neg='fix'\n",
        "sorted_most_next_neg = dict(sorted(dic_neg_most_next[word_neg].items(), key=lambda item:item[1],\n",
        "reverse=True)[:10])\n",
        "D={}\n",
        "for mot,frequencies in sorted_most_next_neg.items():\n",
        "    D[mot]=[frequencies,dic_most_used_with_neg[word_neg][mot]]\n",
        "\n",
        "D"
      ]
    },
    {
      "cell_type": "markdown",
      "metadata": {
        "id": "A6NxXelbPCJ8"
      },
      "source": [
        "On peut soit supposer que la filtration était trop forte et donc que l'on a perdu de l'information intéréssante soit qu'il n'y a aucune information associé. <br>Il y a cependant d'autres mots correspondant aux commentaires négatifs que l'on pourrait analyser."
      ]
    }
  ],
  "metadata": {
    "kernelspec": {
      "display_name": "mon_environnement",
      "language": "python",
      "name": "python3"
    },
    "language_info": {
      "codemirror_mode": {
        "name": "ipython",
        "version": 3
      },
      "file_extension": ".py",
      "mimetype": "text/x-python",
      "name": "python",
      "nbconvert_exporter": "python",
      "pygments_lexer": "ipython3",
      "version": "3.11.9"
    },
    "colab": {
      "provenance": [],
      "collapsed_sections": [
        "bWqLVuxUPCJK",
        "jFrd_K-CPCJM"
      ]
    }
  },
  "nbformat": 4,
  "nbformat_minor": 0
}